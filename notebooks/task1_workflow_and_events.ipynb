{
 "cells": [
  {
   "cell_type": "code",
   "execution_count": 2,
   "id": "6aff1001",
   "metadata": {},
   "outputs": [
    {
     "name": "stdout",
     "output_type": "stream",
     "text": [
      "Event data has been processed and saved to '../data/processed/event_data.csv'.\n"
     ]
    }
   ],
   "source": [
    "import pandas as pd\n",
    "\n",
    "events = [\n",
    "    {\"date\": \"1990-08-02\", \"event\": \"Iraq invades Kuwait\", \"type\": \"Conflict\", \"notes\": \"Gulf War begins – major spike in oil prices\"},\n",
    "    {\"date\": \"2001-09-11\", \"event\": \"9/11 Terrorist Attacks\", \"type\": \"Terrorism\", \"notes\": \"Global market panic and geopolitical uncertainty\"},\n",
    "    {\"date\": \"2003-03-20\", \"event\": \"US invades Iraq\", \"type\": \"Conflict\", \"notes\": \"Concerns over supply disruption from a major producer\"},\n",
    "    {\"date\": \"2008-07-11\", \"event\": \"Oil hits all-time high\", \"type\": \"Economic Peak\", \"notes\": \"Price briefly reaches ~$147/barrel\"},\n",
    "    {\"date\": \"2008-09-15\", \"event\": \"Lehman Brothers collapse\", \"type\": \"Economic Crisis\", \"notes\": \"Global financial crisis causes oil crash\"},\n",
    "    {\"date\": \"2010-04-20\", \"event\": \"Deepwater Horizon oil spill\", \"type\": \"Environmental\", \"notes\": \"Concerns about offshore production risks\"},\n",
    "    {\"date\": \"2011-02-17\", \"event\": \"Libya Civil War begins (Arab Spring)\", \"type\": \"Conflict\", \"notes\": \"Disruption of Libyan oil exports\"},\n",
    "    {\"date\": \"2014-11-27\", \"event\": \"OPEC refuses to cut output\", \"type\": \"OPEC Decision\", \"notes\": \"Oversupply causes price crash\"},\n",
    "    {\"date\": \"2016-01-16\", \"event\": \"Sanctions lifted on Iran\", \"type\": \"Geopolitical\", \"notes\": \"Return of Iranian oil to market\"},\n",
    "    {\"date\": \"2016-12-10\", \"event\": \"OPEC+ announces coordinated cuts\", \"type\": \"OPEC Decision\", \"notes\": \"Support for oil price recovery\"},\n",
    "    {\"date\": \"2018-05-08\", \"event\": \"US exits Iran nuclear deal\", \"type\": \"Sanctions\", \"notes\": \"Renewed supply fears\"},\n",
    "    {\"date\": \"2020-03-08\", \"event\": \"Saudi-Russia oil price war\", \"type\": \"OPEC Conflict\", \"notes\": \"Triggered one of the sharpest price drops\"},\n",
    "    {\"date\": \"2020-04-20\", \"event\": \"WTI oil price goes negative\", \"type\": \"Market Shock\", \"notes\": \"Due to storage overflow during COVID-19\"},\n",
    "    {\"date\": \"2022-02-24\", \"event\": \"Russia invades Ukraine\", \"type\": \"Conflict\", \"notes\": \"Massive shock to global energy markets\"},\n",
    "    {\"date\": \"2022-10-05\", \"event\": \"OPEC+ announces output cut\", \"type\": \"OPEC Decision\", \"notes\": \"Oil prices rise amid energy crisis\"},\n",
    "]\n",
    "\n",
    "events_df = pd.DataFrame(events)\n",
    "events_df.to_csv(\"../data/processed/event_data.csv\", index=False)\n",
    "print(\"Event data has been processed and saved to '../data/processed/event_data.csv'.\")"
   ]
  }
 ],
 "metadata": {
  "kernelspec": {
   "display_name": "venv (3.12.3)",
   "language": "python",
   "name": "python3"
  },
  "language_info": {
   "codemirror_mode": {
    "name": "ipython",
    "version": 3
   },
   "file_extension": ".py",
   "mimetype": "text/x-python",
   "name": "python",
   "nbconvert_exporter": "python",
   "pygments_lexer": "ipython3",
   "version": "3.12.3"
  }
 },
 "nbformat": 4,
 "nbformat_minor": 5
}
